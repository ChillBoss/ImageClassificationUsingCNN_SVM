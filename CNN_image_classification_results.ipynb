{
  "nbformat": 4,
  "nbformat_minor": 0,
  "metadata": {
    "kernelspec": {
      "display_name": "Python 3",
      "language": "python",
      "name": "python3"
    },
    "language_info": {
      "codemirror_mode": {
        "name": "ipython",
        "version": 3
      },
      "file_extension": ".py",
      "mimetype": "text/x-python",
      "name": "python",
      "nbconvert_exporter": "python",
      "pygments_lexer": "ipython3",
      "version": "3.7.1"
    },
    "colab": {
      "name": "CNN_image_classification_results.ipynb",
      "version": "0.3.2",
      "provenance": []
    }
  },
  "cells": [
    {
      "cell_type": "code",
      "metadata": {
        "id": "E-ScEX025-FI",
        "colab_type": "code",
        "colab": {}
      },
      "source": [
        "from pathlib import Path\n",
        "import matplotlib.pyplot as plt\n",
        "import numpy as np\n",
        "import skimage\n",
        "%matplotlib inline\n",
        "from sklearn import svm, metrics, datasets\n",
        "from sklearn import metrics\n",
        "from sklearn.utils import Bunch\n",
        "from sklearn.model_selection import GridSearchCV, train_test_split\n",
        "from skimage.io import imread\n",
        "from skimage.transform import resize\n",
        "from skimage.color import rgb2gray\n",
        "import keras\n",
        "from keras import layers\n",
        "from keras.utils import to_categorical"
      ],
      "execution_count": 0,
      "outputs": []
    },
    {
      "cell_type": "code",
      "metadata": {
        "id": "YWpwvtmP6FFB",
        "colab_type": "code",
        "colab": {}
      },
      "source": [
        ""
      ],
      "execution_count": 0,
      "outputs": []
    },
    {
      "cell_type": "markdown",
      "metadata": {
        "id": "rfZbQtUJ5-FN",
        "colab_type": "text"
      },
      "source": [
        "\n",
        "#  Load Data"
      ]
    },
    {
      "cell_type": "code",
      "metadata": {
        "scrolled": true,
        "id": "G0QGG4bF5-FO",
        "colab_type": "code",
        "colab": {}
      },
      "source": [
        "def load_images_files(container_path, dimension=(120,120)):\n",
        "    image_dir = Path(container_path)\n",
        "    files =  [individual_jpg for individual_jpg in image_dir.iterdir() if individual_jpg.is_file()]\n",
        "    descr = \"An image classification dataset\"\n",
        "    images = []\n",
        "    flat_data = []\n",
        "    target = []\n",
        "    categories = ['dalmatian','dollar_bill','pizza','soccer_ball','sunflower']\n",
        "    for file in files:\n",
        "        img = skimage.io.imread(file)\n",
        "        img_resized = resize(img, dimension, anti_aliasing=True, mode='reflect')\n",
        "        temp =img_resized.flatten()\n",
        "        flat_data.append(temp)\n",
        "        img_gray = rgb2gray(img_resized)\n",
        "        images.append(img_gray)\n",
        "        temp = file.stem[:-3]\n",
        "        if temp == 'dalmatian':\n",
        "            target.append(0)\n",
        "        elif temp == 'dollar_bill':\n",
        "            target.append(1)\n",
        "        elif temp == 'pizza':\n",
        "            target.append(2)\n",
        "        elif temp == 'soccer_ball':\n",
        "            target.append(3)\n",
        "        else:\n",
        "            target.append(4)\n",
        "            \n",
        "    flat_data = np.array(flat_data)\n",
        "    target = np.array(target)\n",
        "    images = np.array(images)\n",
        "    images = images.reshape((len(files),120,120,1))\n",
        "\n",
        "    return Bunch(data=flat_data,\n",
        "                 target=target,\n",
        "                 target_names=categories,\n",
        "                 images=images,\n",
        "                 DESCR=descr)          \n",
        "        "
      ],
      "execution_count": 0,
      "outputs": []
    },
    {
      "cell_type": "code",
      "metadata": {
        "scrolled": true,
        "id": "XbOtShcT5-FS",
        "colab_type": "code",
        "colab": {}
      },
      "source": [
        "image_dataset = load_images_files('images_scrambled/')"
      ],
      "execution_count": 0,
      "outputs": []
    },
    {
      "cell_type": "markdown",
      "metadata": {
        "id": "rcZOlMy55-FW",
        "colab_type": "text"
      },
      "source": [
        "# Split Data to train and test"
      ]
    },
    {
      "cell_type": "code",
      "metadata": {
        "id": "d2ry-QI05-FX",
        "colab_type": "code",
        "colab": {}
      },
      "source": [
        "X_train, X_test, y_train, y_test = train_test_split(image_dataset.images, image_dataset.target,test_size=0.3)"
      ],
      "execution_count": 0,
      "outputs": []
    },
    {
      "cell_type": "markdown",
      "metadata": {
        "id": "8S4YkPcf5-Fb",
        "colab_type": "text"
      },
      "source": [
        "# Turn classes to categorical"
      ]
    },
    {
      "cell_type": "code",
      "metadata": {
        "id": "t080f70u5-Fd",
        "colab_type": "code",
        "colab": {}
      },
      "source": [
        "y_train1 = to_categorical(y_train)"
      ],
      "execution_count": 0,
      "outputs": []
    },
    {
      "cell_type": "markdown",
      "metadata": {
        "id": "0LX4CiKA5-Fg",
        "colab_type": "text"
      },
      "source": [
        "# Le-Net 5 Model"
      ]
    },
    {
      "cell_type": "code",
      "metadata": {
        "id": "P4Ts26mo5-Fh",
        "colab_type": "code",
        "colab": {},
        "outputId": "dd74d5f8-3f9c-42bc-eff8-456e668128a7"
      },
      "source": [
        "model = keras.Sequential()\n",
        "model.add(layers.Conv2D(filters=6, kernel_size=(5,5), activation='relu', input_shape=(120,120,1),kernel_regularizer=keras.regularizers.l2(0.01)))\n",
        "model.add(layers.MaxPooling2D(strides=(2,2)))\n",
        "model.add(layers.Conv2D(filters=16, kernel_size=(5,5), activation='relu',kernel_regularizer=keras.regularizers.l2(0.01)))\n",
        "model.add(layers.MaxPooling2D(strides=(2,2)))\n",
        "model.add(layers.Flatten())\n",
        "model.add(layers.Dense(units=120,kernel_regularizer=keras.regularizers.l2(0.01)))\n",
        "model.add(layers.Activation('relu'))\n",
        "model.add(layers.Dense(units=84, activation='relu',kernel_regularizer=keras.regularizers.l2(0.01)))\n",
        "model.add(layers.Dense(units=5,kernel_regularizer=keras.regularizers.l2(0.01)))\n",
        "model.add(layers.BatchNormalization())\n",
        "model.add(layers.Activation('softmax'))"
      ],
      "execution_count": 0,
      "outputs": [
        {
          "output_type": "stream",
          "text": [
            "WARNING:tensorflow:From C:\\ProgramData\\Anaconda3\\lib\\site-packages\\tensorflow\\python\\framework\\op_def_library.py:263: colocate_with (from tensorflow.python.framework.ops) is deprecated and will be removed in a future version.\n",
            "Instructions for updating:\n",
            "Colocations handled automatically by placer.\n"
          ],
          "name": "stdout"
        }
      ]
    },
    {
      "cell_type": "code",
      "metadata": {
        "scrolled": true,
        "id": "b8iFsk5u5-Fn",
        "colab_type": "code",
        "colab": {}
      },
      "source": [
        "model.compile(loss=keras.losses.categorical_crossentropy, optimizer=keras.optimizers.Adam(), metrics=[keras.metrics.categorical_accuracy])"
      ],
      "execution_count": 0,
      "outputs": []
    },
    {
      "cell_type": "markdown",
      "metadata": {
        "id": "weCa2Uf65-Fs",
        "colab_type": "text"
      },
      "source": [
        "## CheckPoint Creation"
      ]
    },
    {
      "cell_type": "code",
      "metadata": {
        "id": "c6cQIKWl5-Fu",
        "colab_type": "code",
        "colab": {}
      },
      "source": [
        "filepath = \"checkpoints/weights-improvement-{epoch:03d}-{val_categorical_accuracy:0.2f}.hdf5\""
      ],
      "execution_count": 0,
      "outputs": []
    },
    {
      "cell_type": "code",
      "metadata": {
        "id": "zLakKwhh5-Fz",
        "colab_type": "code",
        "colab": {}
      },
      "source": [
        "check_point = keras.callbacks.ModelCheckpoint(filepath,monitor='val_categorical_accuracy',verbose=1,save_best_only=True,mode='max') "
      ],
      "execution_count": 0,
      "outputs": []
    },
    {
      "cell_type": "markdown",
      "metadata": {
        "id": "p0pPvcmU5-F4",
        "colab_type": "text"
      },
      "source": [
        "# Training the Model"
      ]
    },
    {
      "cell_type": "code",
      "metadata": {
        "id": "C_cuH6JV5-F5",
        "colab_type": "code",
        "colab": {}
      },
      "source": [
        "## training from checkpoints"
      ],
      "execution_count": 0,
      "outputs": []
    },
    {
      "cell_type": "code",
      "metadata": {
        "id": "HmSZkg6i5-F9",
        "colab_type": "code",
        "colab": {}
      },
      "source": [
        "model.load_weights('checkpoints/weights-improvement-032-0.94.hdf5')"
      ],
      "execution_count": 0,
      "outputs": []
    },
    {
      "cell_type": "code",
      "metadata": {
        "scrolled": false,
        "id": "zyPk2G-l5-GA",
        "colab_type": "code",
        "colab": {},
        "outputId": "4b7498b6-c67f-44f6-89ed-a01c32af181d"
      },
      "source": [
        "history = model.fit(X_train,y_train1,validation_split=0.1,verbose=1)"
      ],
      "execution_count": 0,
      "outputs": [
        {
          "output_type": "stream",
          "text": [
            "Train on 1969 samples, validate on 219 samples\n",
            "Epoch 1/1\n",
            "1969/1969 [==============================] - 20s 10ms/step - loss: 0.1912 - categorical_accuracy: 1.0000 - val_loss: 0.6652 - val_categorical_accuracy: 0.8174\n"
          ],
          "name": "stdout"
        }
      ]
    },
    {
      "cell_type": "code",
      "metadata": {
        "id": "ZuPFIWwt5-GE",
        "colab_type": "code",
        "colab": {},
        "outputId": "813da9ae-697f-472d-9495-132218f59d9a"
      },
      "source": [
        "##for training normally\n",
        "history = model.fit(X_train,y_train1,epochs=80,validation_split=0.1,verbose=1,callbacks=[check_point])"
      ],
      "execution_count": 0,
      "outputs": [
        {
          "output_type": "stream",
          "text": [
            "WARNING:tensorflow:From C:\\ProgramData\\Anaconda3\\lib\\site-packages\\tensorflow\\python\\ops\\math_ops.py:3066: to_int32 (from tensorflow.python.ops.math_ops) is deprecated and will be removed in a future version.\n",
            "Instructions for updating:\n",
            "Use tf.cast instead.\n",
            "Train on 1969 samples, validate on 219 samples\n",
            "Epoch 1/80\n",
            "1969/1969 [==============================] - 21s 10ms/step - loss: 3.1727 - categorical_accuracy: 0.6983 - val_loss: 2.2220 - val_categorical_accuracy: 0.7626\n",
            "\n",
            "Epoch 00001: val_categorical_accuracy improved from -inf to 0.76256, saving model to checkpoints/weights-improvement-001-0.76.hdf5\n",
            "Epoch 2/80\n",
            "1969/1969 [==============================] - 25s 12ms/step - loss: 1.5138 - categorical_accuracy: 0.9477 - val_loss: 1.3795 - val_categorical_accuracy: 0.8265\n",
            "\n",
            "Epoch 00002: val_categorical_accuracy improved from 0.76256 to 0.82648, saving model to checkpoints/weights-improvement-002-0.83.hdf5\n",
            "Epoch 3/80\n",
            "1969/1969 [==============================] - 22s 11ms/step - loss: 1.0176 - categorical_accuracy: 0.9741 - val_loss: 1.0684 - val_categorical_accuracy: 0.8767\n",
            "\n",
            "Epoch 00003: val_categorical_accuracy improved from 0.82648 to 0.87671, saving model to checkpoints/weights-improvement-003-0.88.hdf5\n",
            "Epoch 4/80\n",
            "1969/1969 [==============================] - 22s 11ms/step - loss: 0.8357 - categorical_accuracy: 0.9766 - val_loss: 0.9964 - val_categorical_accuracy: 0.7854\n",
            "\n",
            "Epoch 00004: val_categorical_accuracy did not improve from 0.87671\n",
            "Epoch 5/80\n",
            "1969/1969 [==============================] - 22s 11ms/step - loss: 0.7276 - categorical_accuracy: 0.9848 - val_loss: 0.8725 - val_categorical_accuracy: 0.8584\n",
            "\n",
            "Epoch 00005: val_categorical_accuracy did not improve from 0.87671\n",
            "Epoch 6/80\n",
            "1969/1969 [==============================] - 23s 12ms/step - loss: 0.6407 - categorical_accuracy: 0.9863 - val_loss: 1.0357 - val_categorical_accuracy: 0.7443\n",
            "\n",
            "Epoch 00006: val_categorical_accuracy did not improve from 0.87671\n",
            "Epoch 7/80\n",
            "1969/1969 [==============================] - 25s 13ms/step - loss: 0.6009 - categorical_accuracy: 0.9888 - val_loss: 0.7252 - val_categorical_accuracy: 0.9087\n",
            "\n",
            "Epoch 00007: val_categorical_accuracy improved from 0.87671 to 0.90868, saving model to checkpoints/weights-improvement-007-0.91.hdf5\n",
            "Epoch 8/80\n",
            "1969/1969 [==============================] - 23s 11ms/step - loss: 0.5432 - categorical_accuracy: 0.9929 - val_loss: 0.6949 - val_categorical_accuracy: 0.9041\n",
            "\n",
            "Epoch 00008: val_categorical_accuracy did not improve from 0.90868\n",
            "Epoch 9/80\n",
            "1969/1969 [==============================] - 27s 14ms/step - loss: 0.5018 - categorical_accuracy: 0.9888 - val_loss: 0.7633 - val_categorical_accuracy: 0.8219\n",
            "\n",
            "Epoch 00009: val_categorical_accuracy did not improve from 0.90868\n",
            "Epoch 10/80\n",
            "1969/1969 [==============================] - 24s 12ms/step - loss: 0.4780 - categorical_accuracy: 0.9939 - val_loss: 0.7034 - val_categorical_accuracy: 0.8721\n",
            "\n",
            "Epoch 00010: val_categorical_accuracy did not improve from 0.90868\n",
            "Epoch 11/80\n",
            "1969/1969 [==============================] - 24s 12ms/step - loss: 0.4525 - categorical_accuracy: 0.9914 - val_loss: 0.6278 - val_categorical_accuracy: 0.8813\n",
            "\n",
            "Epoch 00011: val_categorical_accuracy did not improve from 0.90868\n",
            "Epoch 12/80\n",
            "1969/1969 [==============================] - 24s 12ms/step - loss: 0.4425 - categorical_accuracy: 0.9914 - val_loss: 0.6618 - val_categorical_accuracy: 0.8721\n",
            "\n",
            "Epoch 00012: val_categorical_accuracy did not improve from 0.90868\n",
            "Epoch 13/80\n",
            "1969/1969 [==============================] - 23s 12ms/step - loss: 0.4033 - categorical_accuracy: 0.9919 - val_loss: 0.6534 - val_categorical_accuracy: 0.8539\n",
            "\n",
            "Epoch 00013: val_categorical_accuracy did not improve from 0.90868\n",
            "Epoch 14/80\n",
            "1969/1969 [==============================] - 23s 12ms/step - loss: 0.3791 - categorical_accuracy: 0.9949 - val_loss: 0.5712 - val_categorical_accuracy: 0.8995\n",
            "\n",
            "Epoch 00014: val_categorical_accuracy did not improve from 0.90868\n",
            "Epoch 15/80\n",
            "1969/1969 [==============================] - 23s 11ms/step - loss: 0.3571 - categorical_accuracy: 0.9944 - val_loss: 0.6069 - val_categorical_accuracy: 0.8950\n",
            "\n",
            "Epoch 00015: val_categorical_accuracy did not improve from 0.90868\n",
            "Epoch 16/80\n",
            "1969/1969 [==============================] - 22s 11ms/step - loss: 0.3725 - categorical_accuracy: 0.9919 - val_loss: 0.4741 - val_categorical_accuracy: 0.9269\n",
            "\n",
            "Epoch 00016: val_categorical_accuracy improved from 0.90868 to 0.92694, saving model to checkpoints/weights-improvement-016-0.93.hdf5\n",
            "Epoch 17/80\n",
            "1969/1969 [==============================] - 23s 11ms/step - loss: 0.3614 - categorical_accuracy: 0.9883 - val_loss: 0.5470 - val_categorical_accuracy: 0.8767\n",
            "\n",
            "Epoch 00017: val_categorical_accuracy did not improve from 0.92694\n",
            "Epoch 18/80\n",
            "1969/1969 [==============================] - 23s 12ms/step - loss: 0.3408 - categorical_accuracy: 0.9939 - val_loss: 0.7057 - val_categorical_accuracy: 0.8082\n",
            "\n",
            "Epoch 00018: val_categorical_accuracy did not improve from 0.92694\n",
            "Epoch 19/80\n",
            "1969/1969 [==============================] - 23s 12ms/step - loss: 0.3238 - categorical_accuracy: 0.9959 - val_loss: 0.5780 - val_categorical_accuracy: 0.8904\n",
            "\n",
            "Epoch 00019: val_categorical_accuracy did not improve from 0.92694\n",
            "Epoch 20/80\n",
            "1969/1969 [==============================] - 23s 12ms/step - loss: 0.3114 - categorical_accuracy: 0.9934 - val_loss: 0.4864 - val_categorical_accuracy: 0.9087\n",
            "\n",
            "Epoch 00020: val_categorical_accuracy did not improve from 0.92694\n",
            "Epoch 21/80\n",
            "1969/1969 [==============================] - 23s 12ms/step - loss: 0.2938 - categorical_accuracy: 0.9964 - val_loss: 0.4326 - val_categorical_accuracy: 0.9315\n",
            "\n",
            "Epoch 00021: val_categorical_accuracy improved from 0.92694 to 0.93151, saving model to checkpoints/weights-improvement-021-0.93.hdf5\n",
            "Epoch 22/80\n",
            "1969/1969 [==============================] - 24s 12ms/step - loss: 0.2845 - categorical_accuracy: 0.9964 - val_loss: 0.4907 - val_categorical_accuracy: 0.9132\n",
            "\n",
            "Epoch 00022: val_categorical_accuracy did not improve from 0.93151\n",
            "Epoch 23/80\n",
            "1969/1969 [==============================] - 24s 12ms/step - loss: 0.2910 - categorical_accuracy: 0.9919 - val_loss: 0.7304 - val_categorical_accuracy: 0.7991\n",
            "\n",
            "Epoch 00023: val_categorical_accuracy did not improve from 0.93151\n",
            "Epoch 24/80\n",
            "1969/1969 [==============================] - 23s 12ms/step - loss: 0.3055 - categorical_accuracy: 0.9898 - val_loss: 0.5584 - val_categorical_accuracy: 0.8813\n",
            "\n",
            "Epoch 00024: val_categorical_accuracy did not improve from 0.93151\n",
            "Epoch 25/80\n",
            "1969/1969 [==============================] - 23s 12ms/step - loss: 0.2801 - categorical_accuracy: 0.9949 - val_loss: 0.7756 - val_categorical_accuracy: 0.7489\n",
            "\n",
            "Epoch 00025: val_categorical_accuracy did not improve from 0.93151\n",
            "Epoch 26/80\n",
            "1969/1969 [==============================] - 23s 12ms/step - loss: 0.2773 - categorical_accuracy: 0.9924 - val_loss: 0.4723 - val_categorical_accuracy: 0.9087\n",
            "\n",
            "Epoch 00026: val_categorical_accuracy did not improve from 0.93151\n",
            "Epoch 27/80\n",
            "1969/1969 [==============================] - 23s 12ms/step - loss: 0.2415 - categorical_accuracy: 0.9980 - val_loss: 0.3895 - val_categorical_accuracy: 0.9269\n",
            "\n",
            "Epoch 00027: val_categorical_accuracy did not improve from 0.93151\n",
            "Epoch 28/80\n",
            "1969/1969 [==============================] - 22s 11ms/step - loss: 0.2212 - categorical_accuracy: 0.9980 - val_loss: 0.5127 - val_categorical_accuracy: 0.8904\n",
            "\n",
            "Epoch 00028: val_categorical_accuracy did not improve from 0.93151\n",
            "Epoch 29/80\n",
            "1969/1969 [==============================] - 23s 12ms/step - loss: 0.2536 - categorical_accuracy: 0.9919 - val_loss: 0.6905 - val_categorical_accuracy: 0.8219\n",
            "\n",
            "Epoch 00029: val_categorical_accuracy did not improve from 0.93151\n",
            "Epoch 30/80\n",
            "1969/1969 [==============================] - 23s 12ms/step - loss: 0.3004 - categorical_accuracy: 0.9853 - val_loss: 0.7085 - val_categorical_accuracy: 0.8356\n",
            "\n",
            "Epoch 00030: val_categorical_accuracy did not improve from 0.93151\n",
            "Epoch 31/80\n",
            "1969/1969 [==============================] - 23s 12ms/step - loss: 0.2727 - categorical_accuracy: 0.9944 - val_loss: 0.4736 - val_categorical_accuracy: 0.9224\n",
            "\n",
            "Epoch 00031: val_categorical_accuracy did not improve from 0.93151\n",
            "Epoch 32/80\n"
          ],
          "name": "stdout"
        },
        {
          "output_type": "stream",
          "text": [
            "1969/1969 [==============================] - 23s 12ms/step - loss: 0.2240 - categorical_accuracy: 0.9985 - val_loss: 0.3998 - val_categorical_accuracy: 0.9406\n",
            "\n",
            "Epoch 00032: val_categorical_accuracy improved from 0.93151 to 0.94064, saving model to checkpoints/weights-improvement-032-0.94.hdf5\n",
            "Epoch 33/80\n",
            "1969/1969 [==============================] - 23s 12ms/step - loss: 0.1995 - categorical_accuracy: 0.9990 - val_loss: 0.3946 - val_categorical_accuracy: 0.9041\n",
            "\n",
            "Epoch 00033: val_categorical_accuracy did not improve from 0.94064\n",
            "Epoch 34/80\n",
            "1969/1969 [==============================] - 23s 12ms/step - loss: 0.2257 - categorical_accuracy: 0.9929 - val_loss: 0.5409 - val_categorical_accuracy: 0.8995\n",
            "\n",
            "Epoch 00034: val_categorical_accuracy did not improve from 0.94064\n",
            "Epoch 35/80\n",
            "1969/1969 [==============================] - 23s 12ms/step - loss: 0.2352 - categorical_accuracy: 0.9939 - val_loss: 0.4133 - val_categorical_accuracy: 0.9224\n",
            "\n",
            "Epoch 00035: val_categorical_accuracy did not improve from 0.94064\n",
            "Epoch 36/80\n",
            "1969/1969 [==============================] - 23s 11ms/step - loss: 0.2240 - categorical_accuracy: 0.9949 - val_loss: 0.3969 - val_categorical_accuracy: 0.9269\n",
            "\n",
            "Epoch 00036: val_categorical_accuracy did not improve from 0.94064\n",
            "Epoch 37/80\n",
            "1969/1969 [==============================] - 22s 11ms/step - loss: 0.2074 - categorical_accuracy: 0.9975 - val_loss: 0.4853 - val_categorical_accuracy: 0.8950\n",
            "\n",
            "Epoch 00037: val_categorical_accuracy did not improve from 0.94064\n",
            "Epoch 38/80\n",
            "1969/1969 [==============================] - 23s 12ms/step - loss: 0.2200 - categorical_accuracy: 0.9939 - val_loss: 0.4150 - val_categorical_accuracy: 0.8995\n",
            "\n",
            "Epoch 00038: val_categorical_accuracy did not improve from 0.94064\n",
            "Epoch 39/80\n",
            "1969/1969 [==============================] - 23s 12ms/step - loss: 0.2166 - categorical_accuracy: 0.9959 - val_loss: 0.4359 - val_categorical_accuracy: 0.9087\n",
            "\n",
            "Epoch 00039: val_categorical_accuracy did not improve from 0.94064\n",
            "Epoch 40/80\n",
            "1969/1969 [==============================] - 23s 11ms/step - loss: 0.1902 - categorical_accuracy: 0.9995 - val_loss: 0.5133 - val_categorical_accuracy: 0.8813\n",
            "\n",
            "Epoch 00040: val_categorical_accuracy did not improve from 0.94064\n",
            "Epoch 41/80\n",
            "1969/1969 [==============================] - 22s 11ms/step - loss: 0.2025 - categorical_accuracy: 0.9944 - val_loss: 0.4116 - val_categorical_accuracy: 0.9178\n",
            "\n",
            "Epoch 00041: val_categorical_accuracy did not improve from 0.94064\n",
            "Epoch 42/80\n",
            "1969/1969 [==============================] - 22s 11ms/step - loss: 0.1945 - categorical_accuracy: 0.9980 - val_loss: 0.4546 - val_categorical_accuracy: 0.9087\n",
            "\n",
            "Epoch 00042: val_categorical_accuracy did not improve from 0.94064\n",
            "Epoch 43/80\n",
            "1969/1969 [==============================] - 23s 12ms/step - loss: 0.2078 - categorical_accuracy: 0.9919 - val_loss: 0.6131 - val_categorical_accuracy: 0.8676\n",
            "\n",
            "Epoch 00043: val_categorical_accuracy did not improve from 0.94064\n",
            "Epoch 44/80\n",
            "1969/1969 [==============================] - 22s 11ms/step - loss: 0.2121 - categorical_accuracy: 0.9954 - val_loss: 0.4128 - val_categorical_accuracy: 0.9087\n",
            "\n",
            "Epoch 00044: val_categorical_accuracy did not improve from 0.94064\n",
            "Epoch 45/80\n",
            "1969/1969 [==============================] - 23s 11ms/step - loss: 0.1938 - categorical_accuracy: 0.9964 - val_loss: 0.4894 - val_categorical_accuracy: 0.8721\n",
            "\n",
            "Epoch 00045: val_categorical_accuracy did not improve from 0.94064\n",
            "Epoch 46/80\n",
            "1969/1969 [==============================] - 23s 12ms/step - loss: 0.1727 - categorical_accuracy: 1.0000 - val_loss: 0.3849 - val_categorical_accuracy: 0.9178\n",
            "\n",
            "Epoch 00046: val_categorical_accuracy did not improve from 0.94064\n",
            "Epoch 47/80\n",
            "1969/1969 [==============================] - 22s 11ms/step - loss: 0.1502 - categorical_accuracy: 1.0000 - val_loss: 0.3657 - val_categorical_accuracy: 0.9041\n",
            "\n",
            "Epoch 00047: val_categorical_accuracy did not improve from 0.94064\n",
            "Epoch 48/80\n",
            "1969/1969 [==============================] - 23s 12ms/step - loss: 0.1498 - categorical_accuracy: 0.9995 - val_loss: 0.4517 - val_categorical_accuracy: 0.8721\n",
            "\n",
            "Epoch 00048: val_categorical_accuracy did not improve from 0.94064\n",
            "Epoch 49/80\n",
            "1969/1969 [==============================] - 22s 11ms/step - loss: 0.2035 - categorical_accuracy: 0.9898 - val_loss: 0.5117 - val_categorical_accuracy: 0.8767\n",
            "\n",
            "Epoch 00049: val_categorical_accuracy did not improve from 0.94064\n",
            "Epoch 50/80\n",
            "1969/1969 [==============================] - 23s 12ms/step - loss: 0.2080 - categorical_accuracy: 0.9939 - val_loss: 0.5493 - val_categorical_accuracy: 0.8676\n",
            "\n",
            "Epoch 00050: val_categorical_accuracy did not improve from 0.94064\n",
            "Epoch 51/80\n",
            "1969/1969 [==============================] - 24s 12ms/step - loss: 0.2355 - categorical_accuracy: 0.9898 - val_loss: 0.5235 - val_categorical_accuracy: 0.8950\n",
            "\n",
            "Epoch 00051: val_categorical_accuracy did not improve from 0.94064\n",
            "Epoch 52/80\n",
            "1969/1969 [==============================] - 24s 12ms/step - loss: 0.1872 - categorical_accuracy: 0.9995 - val_loss: 0.3972 - val_categorical_accuracy: 0.8904\n",
            "\n",
            "Epoch 00052: val_categorical_accuracy did not improve from 0.94064\n",
            "Epoch 53/80\n",
            "1969/1969 [==============================] - 22s 11ms/step - loss: 0.1533 - categorical_accuracy: 0.9995 - val_loss: 0.4697 - val_categorical_accuracy: 0.8904\n",
            "\n",
            "Epoch 00053: val_categorical_accuracy did not improve from 0.94064\n",
            "Epoch 54/80\n",
            "1969/1969 [==============================] - 23s 12ms/step - loss: 0.1765 - categorical_accuracy: 0.9949 - val_loss: 0.4179 - val_categorical_accuracy: 0.9224\n",
            "\n",
            "Epoch 00054: val_categorical_accuracy did not improve from 0.94064\n",
            "Epoch 55/80\n",
            "1969/1969 [==============================] - 23s 12ms/step - loss: 0.1858 - categorical_accuracy: 0.9929 - val_loss: 0.5522 - val_categorical_accuracy: 0.8721\n",
            "\n",
            "Epoch 00055: val_categorical_accuracy did not improve from 0.94064\n",
            "Epoch 56/80\n",
            "1969/1969 [==============================] - 22s 11ms/step - loss: 0.2345 - categorical_accuracy: 0.9873 - val_loss: 0.4948 - val_categorical_accuracy: 0.9087\n",
            "\n",
            "Epoch 00056: val_categorical_accuracy did not improve from 0.94064\n",
            "Epoch 57/80\n",
            "1969/1969 [==============================] - 22s 11ms/step - loss: 0.2139 - categorical_accuracy: 0.9934 - val_loss: 0.5379 - val_categorical_accuracy: 0.8813\n",
            "\n",
            "Epoch 00057: val_categorical_accuracy did not improve from 0.94064\n",
            "Epoch 58/80\n",
            "1969/1969 [==============================] - 23s 11ms/step - loss: 0.1792 - categorical_accuracy: 0.9990 - val_loss: 0.4525 - val_categorical_accuracy: 0.8950\n",
            "\n",
            "Epoch 00058: val_categorical_accuracy did not improve from 0.94064\n",
            "Epoch 59/80\n",
            "1969/1969 [==============================] - 23s 11ms/step - loss: 0.1682 - categorical_accuracy: 0.9964 - val_loss: 0.5634 - val_categorical_accuracy: 0.8630\n",
            "\n",
            "Epoch 00059: val_categorical_accuracy did not improve from 0.94064\n",
            "Epoch 60/80\n",
            "1969/1969 [==============================] - 23s 12ms/step - loss: 0.1663 - categorical_accuracy: 0.9990 - val_loss: 0.4146 - val_categorical_accuracy: 0.9087\n",
            "\n",
            "Epoch 00060: val_categorical_accuracy did not improve from 0.94064\n",
            "Epoch 61/80\n",
            "1969/1969 [==============================] - 23s 12ms/step - loss: 0.1508 - categorical_accuracy: 0.9990 - val_loss: 0.4439 - val_categorical_accuracy: 0.8858\n",
            "\n",
            "Epoch 00061: val_categorical_accuracy did not improve from 0.94064\n",
            "Epoch 62/80\n",
            "1969/1969 [==============================] - 23s 12ms/step - loss: 0.1551 - categorical_accuracy: 0.9964 - val_loss: 0.5662 - val_categorical_accuracy: 0.8539\n",
            "\n",
            "Epoch 00062: val_categorical_accuracy did not improve from 0.94064\n",
            "Epoch 63/80\n",
            "1969/1969 [==============================] - 23s 12ms/step - loss: 0.1555 - categorical_accuracy: 0.9980 - val_loss: 0.4196 - val_categorical_accuracy: 0.9041\n",
            "\n",
            "Epoch 00063: val_categorical_accuracy did not improve from 0.94064\n",
            "Epoch 64/80\n",
            "1969/1969 [==============================] - 23s 11ms/step - loss: 0.1503 - categorical_accuracy: 0.9985 - val_loss: 0.4369 - val_categorical_accuracy: 0.8950\n",
            "\n",
            "Epoch 00064: val_categorical_accuracy did not improve from 0.94064\n",
            "Epoch 65/80\n",
            "1969/1969 [==============================] - 23s 12ms/step - loss: 0.1498 - categorical_accuracy: 0.9980 - val_loss: 0.4149 - val_categorical_accuracy: 0.9178\n",
            "\n",
            "Epoch 00065: val_categorical_accuracy did not improve from 0.94064\n",
            "Epoch 66/80\n"
          ],
          "name": "stdout"
        },
        {
          "output_type": "stream",
          "text": [
            "1969/1969 [==============================] - 23s 12ms/step - loss: 0.1480 - categorical_accuracy: 0.9975 - val_loss: 0.4980 - val_categorical_accuracy: 0.8813\n",
            "\n",
            "Epoch 00066: val_categorical_accuracy did not improve from 0.94064\n",
            "Epoch 67/80\n",
            "1969/1969 [==============================] - 24s 12ms/step - loss: 0.2318 - categorical_accuracy: 0.9837 - val_loss: 0.5188 - val_categorical_accuracy: 0.8858\n",
            "\n",
            "Epoch 00067: val_categorical_accuracy did not improve from 0.94064\n",
            "Epoch 68/80\n",
            "1969/1969 [==============================] - 22s 11ms/step - loss: 0.1962 - categorical_accuracy: 0.9934 - val_loss: 0.4824 - val_categorical_accuracy: 0.8950\n",
            "\n",
            "Epoch 00068: val_categorical_accuracy did not improve from 0.94064\n",
            "Epoch 69/80\n",
            "1969/1969 [==============================] - 23s 12ms/step - loss: 0.1583 - categorical_accuracy: 0.9995 - val_loss: 0.4677 - val_categorical_accuracy: 0.8858\n",
            "\n",
            "Epoch 00069: val_categorical_accuracy did not improve from 0.94064\n",
            "Epoch 70/80\n",
            "1969/1969 [==============================] - 25s 13ms/step - loss: 0.1354 - categorical_accuracy: 1.0000 - val_loss: 0.3700 - val_categorical_accuracy: 0.9041\n",
            "\n",
            "Epoch 00070: val_categorical_accuracy did not improve from 0.94064\n",
            "Epoch 71/80\n",
            "1969/1969 [==============================] - 23s 11ms/step - loss: 0.1263 - categorical_accuracy: 1.0000 - val_loss: 0.3940 - val_categorical_accuracy: 0.9041\n",
            "\n",
            "Epoch 00071: val_categorical_accuracy did not improve from 0.94064\n",
            "Epoch 72/80\n",
            "1969/1969 [==============================] - 24s 12ms/step - loss: 0.1260 - categorical_accuracy: 0.9995 - val_loss: 0.4281 - val_categorical_accuracy: 0.9087\n",
            "\n",
            "Epoch 00072: val_categorical_accuracy did not improve from 0.94064\n",
            "Epoch 73/80\n",
            "1969/1969 [==============================] - 24s 12ms/step - loss: 0.1225 - categorical_accuracy: 1.0000 - val_loss: 0.4451 - val_categorical_accuracy: 0.8995\n",
            "\n",
            "Epoch 00073: val_categorical_accuracy did not improve from 0.94064\n",
            "Epoch 74/80\n",
            "1969/1969 [==============================] - 23s 11ms/step - loss: 0.1547 - categorical_accuracy: 0.9929 - val_loss: 0.6157 - val_categorical_accuracy: 0.8447\n",
            "\n",
            "Epoch 00074: val_categorical_accuracy did not improve from 0.94064\n",
            "Epoch 75/80\n",
            "1969/1969 [==============================] - 22s 11ms/step - loss: 0.2190 - categorical_accuracy: 0.9812 - val_loss: 0.5129 - val_categorical_accuracy: 0.8995\n",
            "\n",
            "Epoch 00075: val_categorical_accuracy did not improve from 0.94064\n",
            "Epoch 76/80\n",
            "1969/1969 [==============================] - 22s 11ms/step - loss: 0.1991 - categorical_accuracy: 0.9909 - val_loss: 0.5486 - val_categorical_accuracy: 0.8584\n",
            "\n",
            "Epoch 00076: val_categorical_accuracy did not improve from 0.94064\n",
            "Epoch 77/80\n",
            "1969/1969 [==============================] - 23s 12ms/step - loss: 0.1714 - categorical_accuracy: 0.9959 - val_loss: 0.4567 - val_categorical_accuracy: 0.8950\n",
            "\n",
            "Epoch 00077: val_categorical_accuracy did not improve from 0.94064\n",
            "Epoch 78/80\n",
            "1969/1969 [==============================] - 23s 12ms/step - loss: 0.1562 - categorical_accuracy: 0.9954 - val_loss: 0.4536 - val_categorical_accuracy: 0.8995\n",
            "\n",
            "Epoch 00078: val_categorical_accuracy did not improve from 0.94064\n",
            "Epoch 79/80\n",
            "1969/1969 [==============================] - 23s 11ms/step - loss: 0.1409 - categorical_accuracy: 0.9990 - val_loss: 0.4105 - val_categorical_accuracy: 0.8813\n",
            "\n",
            "Epoch 00079: val_categorical_accuracy did not improve from 0.94064\n",
            "Epoch 80/80\n",
            "1969/1969 [==============================] - 23s 12ms/step - loss: 0.1479 - categorical_accuracy: 0.9949 - val_loss: 0.4213 - val_categorical_accuracy: 0.9178\n",
            "\n",
            "Epoch 00080: val_categorical_accuracy did not improve from 0.94064\n"
          ],
          "name": "stdout"
        }
      ]
    },
    {
      "cell_type": "markdown",
      "metadata": {
        "id": "e3gnEMCG5-GH",
        "colab_type": "text"
      },
      "source": [
        "# Accuracy and Metrics "
      ]
    },
    {
      "cell_type": "code",
      "metadata": {
        "id": "76_QFbMB5-GI",
        "colab_type": "code",
        "colab": {},
        "outputId": "efc3e67d-4175-4afb-fc72-7315add8d2fc"
      },
      "source": [
        "plt.plot(history.history['categorical_accuracy'])\n",
        "plt.plot(history.history['val_categorical_accuracy'])\n",
        "plt.title('model accuracy')\n",
        "plt.ylabel('accuracy')\n",
        "plt.xlabel('epoch')\n",
        "plt.legend(['train', 'test'], loc='upper left')\n",
        "plt.show()"
      ],
      "execution_count": 0,
      "outputs": [
        {
          "output_type": "display_data",
          "data": {
            "image/png": "[encoded data removed]",
            "text/plain": [
              "<Figure size 432x288 with 1 Axes>"
            ]
          },
          "metadata": {
            "tags": [],
            "needs_background": "light"
          }
        }
      ]
    },
    {
      "cell_type": "code",
      "metadata": {
        "id": "iN94Z2Bd5-GM",
        "colab_type": "code",
        "colab": {},
        "outputId": "5a7b0abe-4011-4dd4-8b4c-5226c4835748"
      },
      "source": [
        "plt.plot(history.history['loss'])\n",
        "plt.plot(history.history['val_loss'])\n",
        "plt.title('model loss')\n",
        "plt.ylabel('loss')\n",
        "plt.xlabel('epoch')\n",
        "plt.legend(['train', 'test'], loc='upper left')\n",
        "plt.show()"
      ],
      "execution_count": 0,
      "outputs": [
        {
          "output_type": "display_data",
          "data": {
            "image/png": "[encoded data removed]",
            "text/plain": [
              "<Figure size 432x288 with 1 Axes>"
            ]
          },
          "metadata": {
            "tags": [],
            "needs_background": "light"
          }
        }
      ]
    },
    {
      "cell_type": "code",
      "metadata": {
        "id": "FHbbEEHF5-GQ",
        "colab_type": "code",
        "colab": {},
        "outputId": "7ffa2a7c-fb47-41b9-a99a-dd1189684558"
      },
      "source": [
        "X_test.shape"
      ],
      "execution_count": 0,
      "outputs": [
        {
          "output_type": "execute_result",
          "data": {
            "text/plain": [
              "(939, 120, 120, 1)"
            ]
          },
          "metadata": {
            "tags": []
          },
          "execution_count": 14
        }
      ]
    },
    {
      "cell_type": "code",
      "metadata": {
        "id": "lBummqjg5-GU",
        "colab_type": "code",
        "colab": {}
      },
      "source": [
        "y_pred1 = model.predict_classes(X_test)"
      ],
      "execution_count": 0,
      "outputs": []
    },
    {
      "cell_type": "code",
      "metadata": {
        "id": "TrRhfB775-GX",
        "colab_type": "code",
        "colab": {},
        "outputId": "8e1a4c35-8063-40fb-fa26-16049138eaae"
      },
      "source": [
        "metrics.accuracy_score(y_test,y_pred1)"
      ],
      "execution_count": 0,
      "outputs": [
        {
          "output_type": "execute_result",
          "data": {
            "text/plain": [
              "0.9435569755058573"
            ]
          },
          "metadata": {
            "tags": []
          },
          "execution_count": 16
        }
      ]
    },
    {
      "cell_type": "code",
      "metadata": {
        "id": "oQpTIWqU5-Gf",
        "colab_type": "code",
        "colab": {},
        "outputId": "bc26a73c-38cd-4b36-d27a-c5f34386431d"
      },
      "source": [
        "metrics.confusion_matrix(y_test,y_pred1,labels=[0,1,2,3,4])"
      ],
      "execution_count": 0,
      "outputs": [
        {
          "output_type": "execute_result",
          "data": {
            "text/plain": [
              "array([[134,   0,   2,   4,   7],\n",
              "       [  0, 110,   0,   0,   1],\n",
              "       [  9,   0, 215,   4,   9],\n",
              "       [  4,   0,   2, 238,   2],\n",
              "       [  2,   0,   4,   3, 189]], dtype=int64)"
            ]
          },
          "metadata": {
            "tags": []
          },
          "execution_count": 17
        }
      ]
    },
    {
      "cell_type": "code",
      "metadata": {
        "id": "pYFGcgdq5-Go",
        "colab_type": "code",
        "colab": {},
        "outputId": "e7966758-f473-4eb9-f121-35893b1f613f"
      },
      "source": [
        "metrics.precision_recall_fscore_support(y_test,y_pred1,labels=[0,1,2,3,4])"
      ],
      "execution_count": 0,
      "outputs": [
        {
          "output_type": "execute_result",
          "data": {
            "text/plain": [
              "(array([0.89932886, 1.        , 0.96412556, 0.95582329, 0.90865385]),\n",
              " array([0.91156463, 0.99099099, 0.907173  , 0.96747967, 0.95454545]),\n",
              " array([0.90540541, 0.99547511, 0.93478261, 0.96161616, 0.93103448]),\n",
              " array([147, 111, 237, 246, 198], dtype=int64))"
            ]
          },
          "metadata": {
            "tags": []
          },
          "execution_count": 18
        }
      ]
    }
  ]
}